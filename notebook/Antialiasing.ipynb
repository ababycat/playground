{
 "cells": [
  {
   "cell_type": "code",
   "execution_count": 18,
   "id": "209b2733-df13-4ecb-8415-9891cb7e870f",
   "metadata": {},
   "outputs": [],
   "source": [
    "import numpy as np\n",
    "import cv2\n",
    "import matplotlib.pyplot as plt"
   ]
  },
  {
   "cell_type": "code",
   "execution_count": 78,
   "id": "d20f4cfd-cfb3-4947-a2dd-ce0ce3fd8f05",
   "metadata": {},
   "outputs": [],
   "source": [
    "def t3d(point2d):\n",
    "    return np.array([point2d[0], point2d[1], 0])\n",
    "\n",
    "def inside_traingle(point, point1, point2, point3):\n",
    "    point = t3d(point)\n",
    "    point1 = t3d(point1)\n",
    "    point2 = t3d(point2)\n",
    "    point3 = t3d(point3)\n",
    "    \n",
    "    v1 = point1 - point\n",
    "    v2 = point2 - point\n",
    "    v3 = point3 - point\n",
    "    d1 = np.cross(v1, v2)[2]\n",
    "    d2 = np.cross(v2, v3)[2]\n",
    "    d3 = np.cross(v3, v1)[2]\n",
    "    if (d1 > 0 and d2 > 0 and d3 > 0) or (d1 < 0 and d2 < 0 and d3 < 0):\n",
    "        return True\n",
    "    else:\n",
    "        return False\n",
    "\n",
    "def draw_traingle(img, point1, point2, point3, color):\n",
    "    height, width = img.shape[0], img.shape[1]\n",
    "    points = np.stack((point1, point2, point3))\n",
    "    min_x, max_x = np.min(points[:, 0]), np.max(points[:, 0])\n",
    "    min_y, max_y = np.min(points[:, 1]), np.max(points[:, 1])\n",
    "\n",
    "    for x in range(max(0, int(np.floor(min_x))), min(width, int(np.ceil(max_x)))):\n",
    "        for y in range(max(0, int(np.floor(min_y))), min(height, int(np.ceil(max_y)))):\n",
    "            if inside_traingle([x+0.5, y+0.5], point1, point2, point3):\n",
    "                img[x, y] = color\n",
    "\n",
    "    return img\n",
    "    \n",
    "def draw_traingle_msaa(img, point1, point2, point3, color):\n",
    "    height, width = img.shape[0], img.shape[1]\n",
    "    points = np.stack((point1, point2, point3))\n",
    "    min_x, max_x = np.min(points[:, 0]), np.max(points[:, 0])\n",
    "    min_y, max_y = np.min(points[:, 1]), np.max(points[:, 1])\n",
    "\n",
    "    s = -0.75\n",
    "    e = 1.0\n",
    "    d = 0.25\n",
    "    a = np.arange(s, e, d)\n",
    "    xx, yy = np.meshgrid(a, a)\n",
    "    xx = xx.reshape(-1)\n",
    "    yy = yy.reshape(-1)\n",
    "    a\n",
    "\n",
    "    print(xx, yy)\n",
    "    for x in range(max(0, int(np.floor(min_x))), min(width, int(np.ceil(max_x)))):\n",
    "        for y in range(max(0, int(np.floor(min_y))), min(height, int(np.ceil(max_y)))):\n",
    "            weight = 0\n",
    "            for i in range(len(xx)):\n",
    "                dx, dy = xx[i], yy[i]\n",
    "                if inside_traingle([x+0.5+dx, y+0.5+dy], point1, point2, point3):\n",
    "                    weight += 1.0\n",
    "            if weight > 0.0:\n",
    "                weight /= len(xx)\n",
    "                # 和背景融合一下，否则有黑边\n",
    "                delta = 0.0 # 融合时让前景权重更大\n",
    "                img[x, y] = color * (weight + delta) + img[x, y] * (1 - weight - delta)\n",
    "\n",
    "    return img"
   ]
  },
  {
   "cell_type": "code",
   "execution_count": 79,
   "id": "eabdbdd4-2de4-4218-8dc4-59616fecca7f",
   "metadata": {},
   "outputs": [
    {
     "data": {
      "image/png": "[encoded data removed]",
      "text/plain": [
       "<Figure size 432x288 with 1 Axes>"
      ]
     },
     "metadata": {
      "needs_background": "light"
     },
     "output_type": "display_data"
    },
    {
     "name": "stdout",
     "output_type": "stream",
     "text": [
      "[-0.75 -0.5  -0.25  0.    0.25  0.5   0.75 -0.75 -0.5  -0.25  0.    0.25\n",
      "  0.5   0.75 -0.75 -0.5  -0.25  0.    0.25  0.5   0.75 -0.75 -0.5  -0.25\n",
      "  0.    0.25  0.5   0.75 -0.75 -0.5  -0.25  0.    0.25  0.5   0.75 -0.75\n",
      " -0.5  -0.25  0.    0.25  0.5   0.75 -0.75 -0.5  -0.25  0.    0.25  0.5\n",
      "  0.75] [-0.75 -0.75 -0.75 -0.75 -0.75 -0.75 -0.75 -0.5  -0.5  -0.5  -0.5  -0.5\n",
      " -0.5  -0.5  -0.25 -0.25 -0.25 -0.25 -0.25 -0.25 -0.25  0.    0.    0.\n",
      "  0.    0.    0.    0.    0.25  0.25  0.25  0.25  0.25  0.25  0.25  0.5\n",
      "  0.5   0.5   0.5   0.5   0.5   0.5   0.75  0.75  0.75  0.75  0.75  0.75\n",
      "  0.75]\n"
     ]
    },
    {
     "data": {
      "image/png": "[encoded data removed]",
      "text/plain": [
       "<Figure size 432x288 with 1 Axes>"
      ]
     },
     "metadata": {
      "needs_background": "light"
     },
     "output_type": "display_data"
    }
   ],
   "source": [
    "# img = np.zeros((100, 100, 3), dtype=np.uint8) * 255\n",
    "img = np.ones((100, 100, 3), dtype=np.uint8) * 255\n",
    "\n",
    "img1 = draw_traingle(img, \n",
    "              np.array([10, 10]), np.array([80, 60]), np.array([20, 90]), \n",
    "              np.array([255, 0, 0]))\n",
    "\n",
    "# plt.figure(figsize=[10, 10])\n",
    "plt.imshow(img1)\n",
    "plt.show()\n",
    "\n",
    "img2 = draw_traingle_msaa(img, \n",
    "              np.array([10, 10]), np.array([80, 60]), np.array([20, 90]), \n",
    "              np.array([255, 0, 0]))\n",
    "# plt.figure(figsize=[10, 10])\n",
    "plt.title('MSAA')\n",
    "plt.imshow(img2)\n",
    "plt.show()"
   ]
  },
  {
   "cell_type": "code",
   "execution_count": 80,
   "id": "27fbf95f-3502-4086-b830-cda58d347e45",
   "metadata": {},
   "outputs": [
    {
     "data": {
      "image/png": "[encoded data removed]",
      "text/plain": [
       "<Figure size 432x288 with 1 Axes>"
      ]
     },
     "metadata": {
      "needs_background": "light"
     },
     "output_type": "display_data"
    },
    {
     "name": "stdout",
     "output_type": "stream",
     "text": [
      "[-0.75 -0.5  -0.25  0.    0.25  0.5   0.75 -0.75 -0.5  -0.25  0.    0.25\n",
      "  0.5   0.75 -0.75 -0.5  -0.25  0.    0.25  0.5   0.75 -0.75 -0.5  -0.25\n",
      "  0.    0.25  0.5   0.75 -0.75 -0.5  -0.25  0.    0.25  0.5   0.75 -0.75\n",
      " -0.5  -0.25  0.    0.25  0.5   0.75 -0.75 -0.5  -0.25  0.    0.25  0.5\n",
      "  0.75] [-0.75 -0.75 -0.75 -0.75 -0.75 -0.75 -0.75 -0.5  -0.5  -0.5  -0.5  -0.5\n",
      " -0.5  -0.5  -0.25 -0.25 -0.25 -0.25 -0.25 -0.25 -0.25  0.    0.    0.\n",
      "  0.    0.    0.    0.    0.25  0.25  0.25  0.25  0.25  0.25  0.25  0.5\n",
      "  0.5   0.5   0.5   0.5   0.5   0.5   0.75  0.75  0.75  0.75  0.75  0.75\n",
      "  0.75]\n"
     ]
    },
    {
     "data": {
      "image/png": "[encoded data removed]",
      "text/plain": [
       "<Figure size 432x288 with 1 Axes>"
      ]
     },
     "metadata": {
      "needs_background": "light"
     },
     "output_type": "display_data"
    }
   ],
   "source": [
    "img = np.zeros((100, 100, 3), dtype=np.uint8) * 255\n",
    "# img = np.ones((100, 100, 3), dtype=np.uint8) * 255\n",
    "\n",
    "img1 = draw_traingle(img, \n",
    "              np.array([10, 10]), np.array([80, 60]), np.array([20, 90]), \n",
    "              np.array([255, 0, 0]))\n",
    "\n",
    "# plt.figure(figsize=[10, 10])\n",
    "plt.imshow(img1)\n",
    "plt.show()\n",
    "\n",
    "img2 = draw_traingle_msaa(img, \n",
    "              np.array([10, 10]), np.array([80, 60]), np.array([20, 90]), \n",
    "              np.array([255, 0, 0]))\n",
    "# plt.figure(figsize=[10, 10])\n",
    "plt.title('MSAA')\n",
    "plt.imshow(img2)\n",
    "plt.show()"
   ]
  },
  {
   "cell_type": "code",
   "execution_count": null,
   "id": "af779e65-ecfc-480f-92a5-d37b0c35296e",
   "metadata": {},
   "outputs": [],
   "source": []
  }
 ],
 "metadata": {
  "kernelspec": {
   "display_name": "Python 3 (ipykernel)",
   "language": "python",
   "name": "python3"
  },
  "language_info": {
   "codemirror_mode": {
    "name": "ipython",
    "version": 3
   },
   "file_extension": ".py",
   "mimetype": "text/x-python",
   "name": "python",
   "nbconvert_exporter": "python",
   "pygments_lexer": "ipython3",
   "version": "3.7.9"
  }
 },
 "nbformat": 4,
 "nbformat_minor": 5
}
